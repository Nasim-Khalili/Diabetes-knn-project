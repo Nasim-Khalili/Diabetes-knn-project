{
 "cells": [
  {
   "cell_type": "markdown",
   "id": "9df47579",
   "metadata": {},
   "source": [
    "# KNN تشخیص بیماری دیابت با "
   ]
  },
  {
   "cell_type": "code",
   "execution_count": null,
   "id": "6947e825-a594-4268-b91c-493ca33539cb",
   "metadata": {},
   "outputs": [],
   "source": [
    "import pandas as pd\n",
    "\n",
    "from sklearn.model_selection import train_test_split\n",
    "from sklearn.neighbors import KNeighborsClassifier"
   ]
  },
  {
   "cell_type": "code",
   "execution_count": null,
   "id": "755e976c",
   "metadata": {},
   "outputs": [],
   "source": [
    "df = pd.read_csv('E:\\dataset\\Diabetes.csv')\n",
    "df.shape"
   ]
  },
  {
   "cell_type": "code",
   "execution_count": null,
   "id": "1e8de763",
   "metadata": {},
   "outputs": [],
   "source": [
    "df.head()"
   ]
  },
  {
   "cell_type": "code",
   "execution_count": null,
   "id": "fee4615d",
   "metadata": {},
   "outputs": [],
   "source": [
    "X = df.iloc[:,0:8]\n",
    "X"
   ]
  },
  {
   "cell_type": "code",
   "execution_count": null,
   "id": "63daa55c",
   "metadata": {},
   "outputs": [],
   "source": [
    "y = df.iloc[:,8]\n",
    "y"
   ]
  },
  {
   "cell_type": "code",
   "execution_count": null,
   "id": "0723b2c7",
   "metadata": {},
   "outputs": [],
   "source": [
    "X_train, X_test, y_train, y_test = train_test_split(X, y, test_size = 0.25, random_state = 0)"
   ]
  },
  {
   "cell_type": "code",
   "execution_count": null,
   "id": "9cc7f5f4",
   "metadata": {},
   "outputs": [],
   "source": [
    "print(f\"X_train : {X_train.shape}\")\n",
    "print(f\"X_test : {X_test.shape}\")\n",
    "print(f\"y_train : {y_train.shape}\")\n",
    "print(f\"y_test : {y_test.shape}\")"
   ]
  },
  {
   "cell_type": "code",
   "execution_count": null,
   "id": "48b704fa",
   "metadata": {},
   "outputs": [],
   "source": [
    "Classifier = KNeighborsClassifier(n_neighbors =19)\n",
    "Classifier.fit(X_train, y_train)"
   ]
  },
  {
   "cell_type": "code",
   "execution_count": null,
   "id": "7d8ac179",
   "metadata": {},
   "outputs": [],
   "source": [
    "Classifier.score(X_test, y_test)"
   ]
  },
  {
   "cell_type": "code",
   "execution_count": null,
   "id": "43517784",
   "metadata": {},
   "outputs": [],
   "source": [
    "Classifier.predict([[6, 100, 80, 33, 0, 35, 1.2, 30]])"
   ]
  },
  {
   "cell_type": "code",
   "execution_count": null,
   "id": "267d437a",
   "metadata": {},
   "outputs": [],
   "source": [
    "Classifier.predict_proba([[6, 100, 80, 33, 0, 35, 1.2, 30]])"
   ]
  },
  {
   "cell_type": "code",
   "execution_count": null,
   "id": "78cf9721",
   "metadata": {
    "scrolled": true
   },
   "outputs": [],
   "source": [
    "for i in range(1, 100):\n",
    "    Classifier = KNeighborsClassifier(n_neighbors = i)\n",
    "    Classifier.fit(X_train, y_train)\n",
    "    Result = Classifier.score(X_test, y_test)\n",
    "    print(f\"n_neighbors : {i} , Score : {Result}\")"
   ]
  }
 ],
 "metadata": {
  "direction": "ltr",
  "kernelspec": {
   "display_name": "Python [conda env:base] *",
   "language": "python",
   "name": "conda-base-py"
  },
  "language_info": {
   "codemirror_mode": {
    "name": "ipython",
    "version": 3
   },
   "file_extension": ".py",
   "mimetype": "text/x-python",
   "name": "python",
   "nbconvert_exporter": "python",
   "pygments_lexer": "ipython3",
   "version": "3.12.7"
  }
 },
 "nbformat": 4,
 "nbformat_minor": 5
}
